{
  "nbformat": 4,
  "nbformat_minor": 0,
  "metadata": {
    "colab": {
      "name": "03_VGG",
      "provenance": [],
      "collapsed_sections": []
    },
    "kernelspec": {
      "name": "python3",
      "display_name": "Python 3"
    },
    "language_info": {
      "name": "python"
    }
  },
  "cells": [
    {
      "cell_type": "code",
      "metadata": {
        "id": "bpVi9TPchKcD"
      },
      "source": [
        "import torch\n",
        "import torch.nn as nn\n",
        "from torch.hub import load_state_dict_from_url\n",
        "from typing import Union, List, Dict, Any, cast"
      ],
      "execution_count": null,
      "outputs": []
    },
    {
      "cell_type": "code",
      "metadata": {
        "id": "tKw2YLdus0xD"
      },
      "source": [
        "model_urls = {\n",
        "    'vgg11': 'https://download.pytorch.org/models/vgg11-bbd30ac9.pth',\n",
        "    'vgg13': 'https://download.pytorch.org/models/vgg13-c768596a.pth',\n",
        "    'vgg16': 'https://download.pytorch.org/models/vgg16-397923af.pth',\n",
        "    'vgg19': 'https://download.pytorch.org/models/vgg19-dcbb9e9d.pth',\n",
        "    'vgg11_bn': 'https://download.pytorch.org/models/vgg11_bn-6002323d.pth',\n",
        "    'vgg13_bn': 'https://download.pytorch.org/models/vgg13_bn-abd245e5.pth',\n",
        "    'vgg16_bn': 'https://download.pytorch.org/models/vgg16_bn-6c64b313.pth',\n",
        "    'vgg19_bn': 'https://download.pytorch.org/models/vgg19_bn-c79401a0.pth',\n",
        "}"
      ],
      "execution_count": null,
      "outputs": []
    },
    {
      "cell_type": "code",
      "metadata": {
        "id": "lq51hdTlg2DJ"
      },
      "source": [
        "cfgs: Dict[str, List[Union[str, int]]] = {\n",
        "    'A': [64, 'M', 128, 'M', 256, 256, 'M', 512, 512, 'M', 512, 512, 'M'],\n",
        "    'B': [64, 64, 'M', 128, 128, 'M', 256, 256, 'M', 512, 512, 'M', 512, 512, 'M'],\n",
        "    'D': [64, 64, 'M', 128, 128, 'M', 256, 256, 256, 'M', 512, 512, 512, 'M', 512, 512, 512, 'M'],\n",
        "    'E': [64, 64, 'M', 128, 128, 'M', 256, 256, 256, 256, 'M', 512, 512, 512, 512, 'M', 512, 512, 512, 512, 'M'],\n",
        "}"
      ],
      "execution_count": null,
      "outputs": []
    },
    {
      "cell_type": "code",
      "metadata": {
        "id": "TBWYDO6VlF_3"
      },
      "source": [
        "def stack_layers(cfg: List[Union[str, int]], batch_norm: bool = False) -> nn.Sequential:\n",
        "  layers: List[nn.Module] = list()\n",
        "  in_channels = 3\n",
        "\n",
        "  for v in cfg:\n",
        "    if v == 'M':\n",
        "      max_pool = nn.MaxPool2d(kernel_size=2, stride=2)\n",
        "      layers.append(max_pool)\n",
        "    else:\n",
        "      v = cast(int, v)\n",
        "      conv2d = nn.Conv2d(in_channels=in_channels, out_channels=v, kernel_size=3, padding=1)\n",
        "      layers.append(conv2d)\n",
        "      if batch_norm:\n",
        "        layers.append(nn.BatchNorm2d(v))\n",
        "      relu = nn.ReLU(inplace=True)\n",
        "      layeres.append(relu)\n",
        "      in_channels = v\n",
        "  return nn.Sequential(*layers)"
      ],
      "execution_count": null,
      "outputs": []
    },
    {
      "cell_type": "code",
      "metadata": {
        "id": "1gy_rbq_nPTE"
      },
      "source": [
        "class VGG(nn.Module):\n",
        "  def __init__(self,\n",
        "               features: nn.Module,\n",
        "               num_classes: int = 1000,\n",
        "               init_weights: bool = True):\n",
        "    super(VGG, self).__init__()\n",
        "    self.features = features\n",
        "    self.avgpool = nn.AdaptiveAvgPool2d((7, 7))\n",
        "    self.classifier = nn.Sequential(\n",
        "        nn.Linear(512 * 7 * 7, 4096),\n",
        "        nn.ReLU(True),\n",
        "        nn.Dropout(),\n",
        "\n",
        "        nn.Linear(4096, 4096),\n",
        "        nn.ReLU(True),\n",
        "        nn.Dropout(),\n",
        "\n",
        "        nn.Linear(4096, num_classes)\n",
        "    )\n",
        "    \n",
        "    if init_weights:\n",
        "      self._initialize_weights()\n",
        "\n",
        "    def forward(self, x: torch.Tensor) -> torch.Tensor:\n",
        "      x = self.features(x)\n",
        "      # average pooling output : 7 by 7\n",
        "      x = self.avgpool(x)\n",
        "      # batch size * channel * height * weidth\n",
        "      # 128, (512 * 7 * 7)\n",
        "      x = torch.flatten(x, 1)\n",
        "      x = self.classifer(x)\n",
        "      return x\n",
        "\n",
        "    def _initialize_weights(self):\n",
        "      for m in self.modules():\n",
        "        if isinstance(m, nn.Conv2d):\n",
        "          nn.init.kaiming_normal_(m.weight, mode='fan_out', nonlinearity='relu')\n",
        "          if m.bias is not None:\n",
        "              nn.init.constant_(m.bias, 0)\n",
        "        elif isinstance(m, nn.BatchNorm2d):\n",
        "            nn.init.constant_(m.weight, 1)\n",
        "            nn.init.constant_(m.bias, 0)\n",
        "        elif isinstance(m, nn.Linear):\n",
        "            nn.init.normal_(m.weight, 0, 0.01)\n",
        "            nn.init.constant_(m.bias, 0)"
      ],
      "execution_count": null,
      "outputs": []
    },
    {
      "cell_type": "code",
      "metadata": {
        "id": "bIt4CJ6ds2yr"
      },
      "source": [
        "def _vgg(arch: str, cfg: str, batch_norm: bool, pretrained: bool, progress: bool, **kwargs: Any) -> VGG:\n",
        "  if pretrained:\n",
        "    kwargs['init_weights'] = False\n",
        "  \n",
        "  model = VGG(stack_layers(cfgs[cfg], batch_norm=batch_norm), **kwargs)\n",
        "  if pretrained:\n",
        "    state_dict = load_state_dict_from_url(model_urls[arch],\n",
        "                                          progress=progress)\n",
        "    model.load_state_dict(state_dict)\n",
        "  \n",
        "  return model"
      ],
      "execution_count": null,
      "outputs": []
    }
  ]
}